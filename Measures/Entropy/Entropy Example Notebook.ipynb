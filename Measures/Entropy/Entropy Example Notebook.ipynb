{
 "cells": [
  {
   "cell_type": "markdown",
   "id": "8aa3a711",
   "metadata": {},
   "source": [
    "# Entropy Example Notebook\n",
    "## \"Explain Me This: Salience-Based Explainability for Synthetic Face Detection Models\"\n",
    "### by Colton R. Crum, 1/31/23"
   ]
  },
  {
   "cell_type": "code",
   "execution_count": 26,
   "id": "23911b9e",
   "metadata": {},
   "outputs": [],
   "source": [
    "import os\n",
    "import os\n",
    "import glob\n",
    "import argparse\n",
    "import skimage.io\n",
    "import skimage.filters\n",
    "import matplotlib.image as mpimg\n",
    "import skimage\n",
    "import skimage.measure\n",
    "import glob\n",
    "from mpl_toolkits.axes_grid1 import ImageGrid\n",
    "import matplotlib.pyplot as plt"
   ]
  },
  {
   "cell_type": "markdown",
   "id": "34283a1b",
   "metadata": {},
   "source": [
    "## Necessary Arguments"
   ]
  },
  {
   "cell_type": "code",
   "execution_count": 17,
   "id": "5a1112f8",
   "metadata": {},
   "outputs": [],
   "source": [
    "parser = argparse.ArgumentParser()\n",
    "# dummy argument to work in Jupyter Notebook instead of command line\n",
    "parser.add_argument('-f')\n",
    "parser.add_argument('-d','--dataset', default=\"../../Salience/GradCAMs/ffhq_aligned/00001.png\")\n",
    "parser.add_argument('-t', '--type', default=\"gradcam\")\n",
    "\n",
    "args = vars(parser.parse_args())"
   ]
  },
  {
   "cell_type": "markdown",
   "id": "d0347139",
   "metadata": {},
   "source": [
    "## Calculate Normalized Entropy"
   ]
  },
  {
   "cell_type": "code",
   "execution_count": 21,
   "id": "e31f6a55",
   "metadata": {},
   "outputs": [
    {
     "name": "stdout",
     "output_type": "stream",
     "text": [
      "0.542\n"
     ]
    }
   ],
   "source": [
    "# Read in the Image\n",
    "cam = mpimg.imread(args['dataset'])\n",
    "# Calculate Entropy\n",
    "entropy = skimage.measure.shannon_entropy(cam)\n",
    "# Normalize w.r.t. size (Note: See details in paper)\n",
    "normalized_entropy = round(entropy / 5.614, 3)\n",
    "print(normalized_entropy)"
   ]
  },
  {
   "cell_type": "markdown",
   "id": "d8ed39c6",
   "metadata": {},
   "source": [
    "## Display Image"
   ]
  },
  {
   "cell_type": "code",
   "execution_count": 28,
   "id": "526f7e7d",
   "metadata": {},
   "outputs": [
    {
     "data": {
      "image/png": "[encoded data removed]",
      "text/plain": [
       "<Figure size 1296x648 with 2 Axes>"
      ]
     },
     "metadata": {},
     "output_type": "display_data"
    }
   ],
   "source": [
    "fig = plt.figure(figsize=(10., 8.), facecolor='white')\n",
    "grid = ImageGrid(fig, 111,  # similar to subplot(111)\n",
    "                 nrows_ncols=(1, 1),  # creates 2x2 grid of axes\n",
    "                 axes_pad=0.1,  # pad between axes in inch.\n",
    "                 )\n",
    "for index, (ax, im) in enumerate(zip(grid, [cam])):\n",
    "    # Iterating over the grid returns the Axes.\n",
    "    ax.axis('off')\n",
    "    ax.grid(b=None)\n",
    "    ax.imshow(im)\n",
    "    ax.set_title(\"Normalized Entropy: \" + str(normalized_entropy), fontsize=30)\n",
    "fig.set_size_inches(18, 9)\n",
    "#plt.savefig(\"entropy-densenet-example.png\", format='png', bbox_inches='tight', dpi = 500)\n",
    "plt.show()"
   ]
  }
 ],
 "metadata": {
  "kernelspec": {
   "display_name": "cyborg",
   "language": "python",
   "name": "cyborg"
  },
  "language_info": {
   "codemirror_mode": {
    "name": "ipython",
    "version": 3
   },
   "file_extension": ".py",
   "mimetype": "text/x-python",
   "name": "python",
   "nbconvert_exporter": "python",
   "pygments_lexer": "ipython3",
   "version": "3.8.2"
  }
 },
 "nbformat": 4,
 "nbformat_minor": 5
}
